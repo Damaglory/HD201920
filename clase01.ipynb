{
 "cells": [
  {
   "cell_type": "markdown",
   "metadata": {
    "slideshow": {
     "slide_type": "slide"
    }
   },
   "source": [
    "# Introducción al terminal\n",
    "\n",
    "- Busca en `Aplicaciones` el programa (aplicación) `terminal.app`. Ejecútenla.\n",
    "\n",
    "- Esta es la aplicación de terminal que viene por defecto en MacOS.\n",
    "- En el navegador (Chrome o Firefox), vayan a esta dirección y bajen `iterm2`: https://iterm2.com/downloads/stable/iTerm2-3_3_1.zip\n",
    "- Con el Finder (el navegador de archivos de MacOS) vayan al lugar donde lo descargaron (debe ser `~/downloads`) y háganle doble click para descomprimirlo.\n",
    "- Muevan `iterm2.app` a la carpeta de Aplicaciones y ejecútenlo.\n",
    "\n"
   ]
  },
  {
   "cell_type": "markdown",
   "metadata": {},
   "source": []
  },
  {
   "cell_type": "markdown",
   "metadata": {},
   "source": []
  }
 ],
 "metadata": {
  "celltoolbar": "Raw Cell Format",
  "kernelspec": {
   "display_name": "Python 3",
   "language": "python",
   "name": "python3"
  },
  "language_info": {
   "codemirror_mode": {
    "name": "ipython",
    "version": 3
   },
   "file_extension": ".py",
   "mimetype": "text/x-python",
   "name": "python",
   "nbconvert_exporter": "python",
   "pygments_lexer": "ipython3",
   "version": "3.7.3"
  }
 },
 "nbformat": 4,
 "nbformat_minor": 2
}
