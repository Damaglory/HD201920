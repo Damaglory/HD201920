{
 "cells": [
  {
   "cell_type": "markdown",
   "metadata": {
    "slideshow": {
     "slide_type": "slide"
    }
   },
   "source": [
    "\n"
   ]
  },
  {
   "cell_type": "markdown",
   "metadata": {},
   "source": [
    "# [Herramientas digitales — Módulo 1: Texto digital (201920)](HD_Texto_Digital.ipynb)\n",
    "\n",
    "## [Maestría en Humanidades Digitales, Universidad de los Andes](https://posgradosfacartes.uniandes.edu.co/programas/humanidades-digitales/)\n",
    "\n",
    "#### [Nicolás Vaughan](http://nicolasvaughan.org/)\n",
    "\n",
    "## Sesión 1: Introducción al terminal, Git, RegEx, Markdown y Pandoc (presencial)\n",
    "\n",
    "### 1. El terminal (*command line interface:* CLI)\n",
    "\n",
    "#### Bajar e instalar *iterm2* (https://www.iterm2.com/)\n",
    "\n",
    "![item2](https://i.stack.imgur.com/RafqM.png)\n",
    "\n",
    "\n",
    "### 2. GIT\n",
    "\n",
    "\n",
    "### 3. Expresiones regulares (RegEX)\n",
    "\n",
    "\n",
    "### 4. Markdown\n",
    "\n",
    "\n",
    "### 5. Pandoc"
   ]
  },
  {
   "cell_type": "markdown",
   "metadata": {},
   "source": []
  },
  {
   "cell_type": "code",
   "execution_count": null,
   "metadata": {},
   "outputs": [],
   "source": []
  }
 ],
 "metadata": {
  "celltoolbar": "Raw Cell Format",
  "kernelspec": {
   "display_name": "Python 3",
   "language": "python",
   "name": "python3"
  },
  "language_info": {
   "codemirror_mode": {
    "name": "ipython",
    "version": 3
   },
   "file_extension": ".py",
   "mimetype": "text/x-python",
   "name": "python",
   "nbconvert_exporter": "python",
   "pygments_lexer": "ipython3",
   "version": "3.7.3"
  }
 },
 "nbformat": 4,
 "nbformat_minor": 2
}
